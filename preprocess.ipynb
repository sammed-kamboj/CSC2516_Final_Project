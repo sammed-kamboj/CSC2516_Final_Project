{
 "cells": [
  {
   "cell_type": "code",
   "execution_count": 1,
   "metadata": {},
   "outputs": [],
   "source": [
    "import json\n",
    "import os\n",
    "from tqdm import tqdm\n",
    "from PIL import Image\n",
    "from PIL import ImageDraw\n",
    "import json\n",
    "from multiprocessing import Pool"
   ]
  },
  {
   "cell_type": "code",
   "execution_count": 2,
   "metadata": {},
   "outputs": [],
   "source": [
    "data_split = ['train','val']\n",
    "curr_dir = os.getcwd()\n",
    "\n",
    "path = os.path.join(curr_dir, 'data_subset')"
   ]
  },
  {
   "cell_type": "code",
   "execution_count": 3,
   "metadata": {},
   "outputs": [],
   "source": [
    "fl = open('label2id.json')\n",
    "label2id = json.load(fl)\n",
    "\n",
    "fl.close()"
   ]
  },
  {
   "cell_type": "code",
   "execution_count": 4,
   "metadata": {},
   "outputs": [],
   "source": [
    "fl = open('id2label.json')\n",
    "id2label = json.load(fl)\n",
    "fl.close()"
   ]
  },
  {
   "cell_type": "code",
   "execution_count": 5,
   "metadata": {},
   "outputs": [],
   "source": [
    "def process_single_file(args):\n",
    "    \n",
    "    each_file,each_folder,combined_folder_path,new_path = args\n",
    "    \n",
    "    fl = open(combined_folder_path+'\\\\'+each_file)\n",
    "    json_obj = json.load(fl)\n",
    "    fl.close()\n",
    "\n",
    "    json_data = json_obj\n",
    "    img_height = json_data[\"imgHeight\"]\n",
    "    img_width = json_data[\"imgWidth\"]\n",
    "\n",
    "    # Create a blank image\n",
    "    image = Image.new(mode=\"L\",size= (img_width, img_height))\n",
    "    draw = ImageDraw.Draw(image)\n",
    "\n",
    "    # Draw polygons on the image\n",
    "    for obj in json_data[\"objects\"]:\n",
    "        if obj[\"draw\"]:\n",
    "            label = obj[\"label\"]\n",
    "            correct_id = label2id[label]\n",
    "            polygon = [(point[0], point[1]) for point in obj[\"polygon\"]]\n",
    "            draw.polygon(polygon,fill=correct_id)\n",
    "\n",
    "    image.save(new_path+'\\\\'+each_folder+'\\\\'+each_file.replace(\"json\",\"png\"))\n",
    "    \n",
    "    print(\"\\nprocessed image \",new_path+'\\\\'+each_folder+'\\\\'+each_file.replace(\"json\",\"png\"))"
   ]
  },
  {
   "cell_type": "code",
   "execution_count": 8,
   "metadata": {},
   "outputs": [],
   "source": [
    "\n",
    "\n",
    "def preprocess_annotations(split):\n",
    "    \n",
    "    combined_path = path+'\\gtFine\\\\'+split+'\\\\'\n",
    "    \n",
    "    new_path = path+'\\label_processed'+'\\\\'+split\n",
    "    \n",
    "    folders = os.listdir(combined_path)\n",
    "    \n",
    "    try:\n",
    "        os.mkdir(new_path)\n",
    "    except Exception as e:\n",
    "        print(e)\n",
    "        print(new_path, \" already exist\")\n",
    "\n",
    "    for each_folder in folders:\n",
    "        \n",
    "        combined_folder_path = combined_path+'\\\\'+each_folder\n",
    "\n",
    "        files = os.listdir(combined_folder_path)\n",
    "        \n",
    "        try:\n",
    "            os.mkdir(new_path+'\\\\'+each_folder)\n",
    "        except:\n",
    "            print(new_path+'\\\\'+each_folder,\" already exist\")\n",
    "\n",
    "        \n",
    "        pool_args = []\n",
    "        \n",
    "        for each_file in files:\n",
    "            \n",
    "            pool_args.append([each_file,each_folder,combined_folder_path,new_path])\n",
    "            \n",
    "        pool = Pool(processes=20)\n",
    "        pool.map(process_single_file,pool_args)\n",
    "        \n",
    "        \n",
    "            \n",
    "            "
   ]
  },
  {
   "cell_type": "code",
   "execution_count": 9,
   "metadata": {},
   "outputs": [
    {
     "name": "stdout",
     "output_type": "stream",
     "text": [
      "[WinError 3] The system cannot find the path specified: 'd:\\\\Toronto MEng\\\\Winter23\\\\CSC2516 Neural Network and Deep learning\\\\Final Project\\\\CSC2516_Final_Project\\\\data_subset\\\\label_processed\\\\train'\n",
      "d:\\Toronto MEng\\Winter23\\CSC2516 Neural Network and Deep learning\\Final Project\\CSC2516_Final_Project\\data_subset\\label_processed\\train  already exist\n",
      "d:\\Toronto MEng\\Winter23\\CSC2516 Neural Network and Deep learning\\Final Project\\CSC2516_Final_Project\\data_subset\\label_processed\\train\\3  already exist\n"
     ]
    }
   ],
   "source": [
    "for each in data_split:\n",
    "    preprocess_annotations(each)"
   ]
  },
  {
   "cell_type": "code",
   "execution_count": null,
   "metadata": {},
   "outputs": [],
   "source": []
  }
 ],
 "metadata": {
  "kernelspec": {
   "display_name": "Python 3",
   "language": "python",
   "name": "python3"
  },
  "language_info": {
   "codemirror_mode": {
    "name": "ipython",
    "version": 3
   },
   "file_extension": ".py",
   "mimetype": "text/x-python",
   "name": "python",
   "nbconvert_exporter": "python",
   "pygments_lexer": "ipython3",
   "version": "3.10.11"
  }
 },
 "nbformat": 4,
 "nbformat_minor": 4
}

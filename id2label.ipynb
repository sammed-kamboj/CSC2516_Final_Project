{
 "cells": [
  {
   "cell_type": "code",
   "execution_count": 19,
   "metadata": {},
   "outputs": [],
   "source": [
    "import os\n",
    "import json"
   ]
  },
  {
   "cell_type": "code",
   "execution_count": 20,
   "metadata": {},
   "outputs": [],
   "source": [
    "path = '/scratch/j/jcaunedo/umar1/segmentation/IDD_Segmentation/'"
   ]
  },
  {
   "cell_type": "code",
   "execution_count": 21,
   "metadata": {},
   "outputs": [],
   "source": [
    "objects = set()"
   ]
  },
  {
   "cell_type": "code",
   "execution_count": 22,
   "metadata": {},
   "outputs": [],
   "source": [
    "folders_path = path + '/' + 'gtFine/train'"
   ]
  },
  {
   "cell_type": "code",
   "execution_count": 23,
   "metadata": {},
   "outputs": [],
   "source": [
    "all_folders = os.listdir(folders_path)"
   ]
  },
  {
   "cell_type": "code",
   "execution_count": 24,
   "metadata": {},
   "outputs": [],
   "source": [
    "\n",
    "\n",
    "for each_folder in all_folders:\n",
    "    \n",
    "    json_files = os.listdir(folders_path + '/' + each_folder)\n",
    "    \n",
    "    for each_file in json_files:\n",
    "        \n",
    "        fl = open(folders_path + '/' + each_folder + '/' + each_file)\n",
    "        \n",
    "        json_data = json.load(fl)\n",
    "        \n",
    "        fl.close()\n",
    "        \n",
    "        for obj in json_data[\"objects\"]:\n",
    "            \n",
    "            objects.add(obj[\"label\"])"
   ]
  },
  {
   "cell_type": "code",
   "execution_count": 25,
   "metadata": {},
   "outputs": [],
   "source": [
    "folders_path = path + '/' + 'gtFine/val'"
   ]
  },
  {
   "cell_type": "code",
   "execution_count": 26,
   "metadata": {},
   "outputs": [],
   "source": [
    "all_folders = os.listdir(folders_path)"
   ]
  },
  {
   "cell_type": "code",
   "execution_count": 27,
   "metadata": {},
   "outputs": [],
   "source": [
    "for each_folder in all_folders:\n",
    "    \n",
    "    json_files = os.listdir(folders_path + '/' + each_folder)\n",
    "    \n",
    "    for each_file in json_files:\n",
    "        \n",
    "        fl = open(folders_path + '/' + each_folder + '/' + each_file)\n",
    "        \n",
    "        json_data = json.load(fl)\n",
    "        \n",
    "        fl.close()\n",
    "        \n",
    "        for obj in json_data[\"objects\"]:\n",
    "            \n",
    "            objects.add(obj[\"label\"])"
   ]
  },
  {
   "cell_type": "code",
   "execution_count": 28,
   "metadata": {},
   "outputs": [],
   "source": [
    "id2label = {}\n",
    "label2id = {}\n",
    "for i,label in enumerate(list(objects)):\n",
    "    id2label[i] = label\n",
    "    label2id[label] = i"
   ]
  },
  {
   "cell_type": "code",
   "execution_count": 29,
   "metadata": {},
   "outputs": [
    {
     "data": {
      "text/plain": [
       "{'animal',\n",
       " 'autorickshaw',\n",
       " 'bicycle',\n",
       " 'billboard',\n",
       " 'bridge',\n",
       " 'building',\n",
       " 'bus',\n",
       " 'car',\n",
       " 'caravan',\n",
       " 'curb',\n",
       " 'drivable fallback',\n",
       " 'ego vehicle',\n",
       " 'fallback background',\n",
       " 'fence',\n",
       " 'guard rail',\n",
       " 'license plate',\n",
       " 'motorcycle',\n",
       " 'non-drivable fallback',\n",
       " 'obs-str-bar-fallback',\n",
       " 'out of roi',\n",
       " 'parking',\n",
       " 'person',\n",
       " 'pole',\n",
       " 'polegroup',\n",
       " 'rail track',\n",
       " 'rectification border',\n",
       " 'rider',\n",
       " 'road',\n",
       " 'sidewalk',\n",
       " 'sky',\n",
       " 'traffic light',\n",
       " 'traffic sign',\n",
       " 'trailer',\n",
       " 'train',\n",
       " 'truck',\n",
       " 'tunnel',\n",
       " 'vegetation',\n",
       " 'vehicle fallback',\n",
       " 'wall'}"
      ]
     },
     "execution_count": 29,
     "metadata": {},
     "output_type": "execute_result"
    }
   ],
   "source": [
    "objects"
   ]
  },
  {
   "cell_type": "code",
   "execution_count": 30,
   "metadata": {},
   "outputs": [],
   "source": [
    "fl = open('id2label.json','w')\n",
    "json.dump(id2label,fl)\n",
    "fl.close()"
   ]
  },
  {
   "cell_type": "code",
   "execution_count": 31,
   "metadata": {},
   "outputs": [],
   "source": [
    "fl = open('label2id.json','w')\n",
    "json.dump(label2id,fl)\n",
    "fl.close()"
   ]
  },
  {
   "cell_type": "code",
   "execution_count": null,
   "metadata": {},
   "outputs": [],
   "source": []
  }
 ],
 "metadata": {
  "kernelspec": {
   "display_name": "nnlp",
   "language": "python",
   "name": "nnlp"
  },
  "language_info": {
   "codemirror_mode": {
    "name": "ipython",
    "version": 3
   },
   "file_extension": ".py",
   "mimetype": "text/x-python",
   "name": "python",
   "nbconvert_exporter": "python",
   "pygments_lexer": "ipython3",
   "version": "3.8.5"
  }
 },
 "nbformat": 4,
 "nbformat_minor": 4
}
